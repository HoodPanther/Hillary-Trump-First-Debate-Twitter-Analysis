{
 "cells": [
  {
   "cell_type": "code",
   "execution_count": 4,
   "metadata": {
    "collapsed": false,
    "scrolled": true
   },
   "outputs": [
    {
     "data": {
      "text/plain": [
       "243821"
      ]
     },
     "execution_count": 4,
     "metadata": {},
     "output_type": "execute_result"
    }
   ],
   "source": [
    "import pandas as pd\n",
    "\n",
    "tweets = pd.read_csv(\"results.csv\")\n",
    "len(tweets) #This is how many tweets I was able to capture during the length of the debate."
   ]
  },
  {
   "cell_type": "code",
   "execution_count": 5,
   "metadata": {
    "collapsed": false
   },
   "outputs": [],
   "source": [
    "def get_candidate(row):\n",
    "    candidates = []\n",
    "    text = row[\"text\"].lower()\n",
    "    if \"clinton\" in text or \"hillary\" in text:\n",
    "        candidates.append(\"clinton\")\n",
    "    if \"trump\" in text or \"donald\" in text:\n",
    "        candidates.append(\"trump\")\n",
    "    return \",\".join(candidates)\n",
    "\n",
    "tweets[\"candidate\"] = tweets.apply(get_candidate,axis=1)"
   ]
  },
  {
   "cell_type": "code",
   "execution_count": 6,
   "metadata": {
    "collapsed": false,
    "scrolled": true
   },
   "outputs": [
    {
     "data": {
      "text/html": [
       "<div>\n",
       "<table border=\"1\" class=\"dataframe\">\n",
       "  <thead>\n",
       "    <tr style=\"text-align: right;\">\n",
       "      <th></th>\n",
       "      <th>id</th>\n",
       "      <th>user_name</th>\n",
       "      <th>polarity</th>\n",
       "      <th>user_bg_color</th>\n",
       "      <th>created</th>\n",
       "      <th>user_followers</th>\n",
       "      <th>subjectivity</th>\n",
       "      <th>user_created</th>\n",
       "      <th>id_str</th>\n",
       "      <th>retweet_count</th>\n",
       "      <th>user_description</th>\n",
       "      <th>text</th>\n",
       "      <th>user_location</th>\n",
       "      <th>coordinates</th>\n",
       "      <th>candidate</th>\n",
       "    </tr>\n",
       "  </thead>\n",
       "  <tbody>\n",
       "    <tr>\n",
       "      <th>0</th>\n",
       "      <td>1</td>\n",
       "      <td>NY_Places</td>\n",
       "      <td>0.000000</td>\n",
       "      <td>8E9D74</td>\n",
       "      <td>2016-09-27T00:51:45</td>\n",
       "      <td>19066</td>\n",
       "      <td>0.000000</td>\n",
       "      <td>2010-07-29T06:44:59</td>\n",
       "      <td>780570587705991169</td>\n",
       "      <td>0</td>\n",
       "      <td>Real-time local buzz for places, events and lo...</td>\n",
       "      <td>Buzz for Garden City Hotel: https://t.co/pBNho...</td>\n",
       "      <td>New York</td>\n",
       "      <td>NaN</td>\n",
       "      <td>clinton</td>\n",
       "    </tr>\n",
       "    <tr>\n",
       "      <th>1</th>\n",
       "      <td>2</td>\n",
       "      <td>1KrisO1</td>\n",
       "      <td>0.000000</td>\n",
       "      <td>F5F8FA</td>\n",
       "      <td>2016-09-27T00:51:44</td>\n",
       "      <td>55</td>\n",
       "      <td>0.150000</td>\n",
       "      <td>2016-07-30T15:19:05</td>\n",
       "      <td>780570587072716800</td>\n",
       "      <td>0</td>\n",
       "      <td>Deplorable Housewife, Mom, Kitchen Table Philo...</td>\n",
       "      <td>RT @ThePatriot143: Pray for Trump. He's walkin...</td>\n",
       "      <td>Georgia, USA</td>\n",
       "      <td>NaN</td>\n",
       "      <td>trump</td>\n",
       "    </tr>\n",
       "    <tr>\n",
       "      <th>2</th>\n",
       "      <td>3</td>\n",
       "      <td>MattMurph24</td>\n",
       "      <td>0.000000</td>\n",
       "      <td>F51313</td>\n",
       "      <td>2016-09-27T00:51:45</td>\n",
       "      <td>12914</td>\n",
       "      <td>0.000000</td>\n",
       "      <td>2009-06-22T23:02:25</td>\n",
       "      <td>780570587928358913</td>\n",
       "      <td>0</td>\n",
       "      <td>Orig from Queens, NY. Pragmatic Democrat. Yank...</td>\n",
       "      <td>Donald Trump will choke tonight in front of mi...</td>\n",
       "      <td>Norfolk, VA</td>\n",
       "      <td>NaN</td>\n",
       "      <td>trump</td>\n",
       "    </tr>\n",
       "    <tr>\n",
       "      <th>3</th>\n",
       "      <td>4</td>\n",
       "      <td>OTSWST</td>\n",
       "      <td>0.066667</td>\n",
       "      <td>C0DEED</td>\n",
       "      <td>2016-09-27T00:51:45</td>\n",
       "      <td>1750</td>\n",
       "      <td>0.266667</td>\n",
       "      <td>2012-12-09T05:55:42</td>\n",
       "      <td>780570587802562560</td>\n",
       "      <td>0</td>\n",
       "      <td>a broken kid that no one needs</td>\n",
       "      <td>RT @JoeMande: FUN DEBATE DRINKING GAME: If Tru...</td>\n",
       "      <td>NaN</td>\n",
       "      <td>NaN</td>\n",
       "      <td>trump</td>\n",
       "    </tr>\n",
       "    <tr>\n",
       "      <th>4</th>\n",
       "      <td>5</td>\n",
       "      <td>HJudeBoudreaux</td>\n",
       "      <td>-0.500000</td>\n",
       "      <td>0F0F0F</td>\n",
       "      <td>2016-09-27T00:51:45</td>\n",
       "      <td>5698</td>\n",
       "      <td>1.000000</td>\n",
       "      <td>2009-02-03T16:17:56</td>\n",
       "      <td>780570588230275073</td>\n",
       "      <td>0</td>\n",
       "      <td>CFP and Founder of Upperline Financial Plannin...</td>\n",
       "      <td>RT @voxdotcom: These tweets will help remind y...</td>\n",
       "      <td>New Orleans, LA</td>\n",
       "      <td>NaN</td>\n",
       "      <td></td>\n",
       "    </tr>\n",
       "  </tbody>\n",
       "</table>\n",
       "</div>"
      ],
      "text/plain": [
       "   id       user_name  polarity user_bg_color              created  \\\n",
       "0   1       NY_Places  0.000000        8E9D74  2016-09-27T00:51:45   \n",
       "1   2         1KrisO1  0.000000        F5F8FA  2016-09-27T00:51:44   \n",
       "2   3     MattMurph24  0.000000        F51313  2016-09-27T00:51:45   \n",
       "3   4          OTSWST  0.066667        C0DEED  2016-09-27T00:51:45   \n",
       "4   5  HJudeBoudreaux -0.500000        0F0F0F  2016-09-27T00:51:45   \n",
       "\n",
       "   user_followers  subjectivity         user_created              id_str  \\\n",
       "0           19066      0.000000  2010-07-29T06:44:59  780570587705991169   \n",
       "1              55      0.150000  2016-07-30T15:19:05  780570587072716800   \n",
       "2           12914      0.000000  2009-06-22T23:02:25  780570587928358913   \n",
       "3            1750      0.266667  2012-12-09T05:55:42  780570587802562560   \n",
       "4            5698      1.000000  2009-02-03T16:17:56  780570588230275073   \n",
       "\n",
       "   retweet_count                                   user_description  \\\n",
       "0              0  Real-time local buzz for places, events and lo...   \n",
       "1              0  Deplorable Housewife, Mom, Kitchen Table Philo...   \n",
       "2              0  Orig from Queens, NY. Pragmatic Democrat. Yank...   \n",
       "3              0                     a broken kid that no one needs   \n",
       "4              0  CFP and Founder of Upperline Financial Plannin...   \n",
       "\n",
       "                                                text    user_location  \\\n",
       "0  Buzz for Garden City Hotel: https://t.co/pBNho...         New York   \n",
       "1  RT @ThePatriot143: Pray for Trump. He's walkin...     Georgia, USA   \n",
       "2  Donald Trump will choke tonight in front of mi...      Norfolk, VA   \n",
       "3  RT @JoeMande: FUN DEBATE DRINKING GAME: If Tru...              NaN   \n",
       "4  RT @voxdotcom: These tweets will help remind y...  New Orleans, LA   \n",
       "\n",
       "  coordinates candidate  \n",
       "0         NaN   clinton  \n",
       "1         NaN     trump  \n",
       "2         NaN     trump  \n",
       "3         NaN     trump  \n",
       "4         NaN            "
      ]
     },
     "execution_count": 6,
     "metadata": {},
     "output_type": "execute_result"
    }
   ],
   "source": [
    "tweets.head()"
   ]
  },
  {
   "cell_type": "code",
   "execution_count": 21,
   "metadata": {
    "collapsed": false
   },
   "outputs": [],
   "source": [
    "import seaborn as sns\n",
    "import matplotlib.pyplot as plt\n",
    "%matplotlib inline"
   ]
  },
  {
   "cell_type": "code",
   "execution_count": 47,
   "metadata": {
    "collapsed": false
   },
   "outputs": [
    {
     "data": {
      "text/html": [
       "<div>\n",
       "<table border=\"1\" class=\"dataframe\">\n",
       "  <thead>\n",
       "    <tr style=\"text-align: right;\">\n",
       "      <th></th>\n",
       "      <th># of Tweets</th>\n",
       "    </tr>\n",
       "  </thead>\n",
       "  <tbody>\n",
       "    <tr>\n",
       "      <th>trump</th>\n",
       "      <td>149834</td>\n",
       "    </tr>\n",
       "    <tr>\n",
       "      <th>clinton,trump</th>\n",
       "      <td>57517</td>\n",
       "    </tr>\n",
       "    <tr>\n",
       "      <th>clinton</th>\n",
       "      <td>20469</td>\n",
       "    </tr>\n",
       "    <tr>\n",
       "      <th></th>\n",
       "      <td>16001</td>\n",
       "    </tr>\n",
       "  </tbody>\n",
       "</table>\n",
       "</div>"
      ],
      "text/plain": [
       "               # of Tweets\n",
       "trump               149834\n",
       "clinton,trump        57517\n",
       "clinton              20469\n",
       "                     16001"
      ]
     },
     "execution_count": 47,
     "metadata": {},
     "output_type": "execute_result"
    }
   ],
   "source": [
    "counts = tweets[\"candidate\"].value_counts() #Count the number of tweets mentioning each Candidate\n",
    "countsdf = pd.DataFrame(counts) #Convert to DataFrame\n",
    "countsdf = countsdf.rename(columns = {'candidate':'# of Tweets'})\n",
    "countsdf"
   ]
  },
  {
   "cell_type": "code",
   "execution_count": 65,
   "metadata": {
    "collapsed": false
   },
   "outputs": [
    {
     "data": {
      "image/png": "[encoded data removed]",
      "text/plain": [
       "<matplotlib.figure.Figure at 0x7f72ab043668>"
      ]
     },
     "metadata": {},
     "output_type": "display_data"
    }
   ],
   "source": [
    "plt.bar(range(len(counts)),counts,align='center')\n",
    "plt.xticks(range(len(counts)),['Trump','Clinton/Trump','Clinton','Else'])\n",
    "plt.ylabel('# of Tweets')\n",
    "plt.title('Tweets about the Candidates During First Debate')\n",
    "plt.show()"
   ]
  },
  {
   "cell_type": "code",
   "execution_count": 72,
   "metadata": {
    "collapsed": false
   },
   "outputs": [],
   "source": [
    "def get_meme(row):\n",
    "    meme = []\n",
    "    text = row[\"text\"].lower()\n",
    "    if \"meme\" in text:\n",
    "        meme.append(\"Yes\")\n",
    "    else:\n",
    "        meme.append(\"No\")\n",
    "    return \",\".join(meme)\n",
    "\n",
    "tweets[\"meme\"] = tweets.apply(get_meme,axis=1)"
   ]
  },
  {
   "cell_type": "code",
   "execution_count": 73,
   "metadata": {
    "collapsed": true
   },
   "outputs": [],
   "source": [
    "memecount = tweets[\"meme\"].value_counts()"
   ]
  },
  {
   "cell_type": "code",
   "execution_count": 74,
   "metadata": {
    "collapsed": false
   },
   "outputs": [
    {
     "data": {
      "text/plain": [
       "No     243598\n",
       "Yes       223\n",
       "Name: meme, dtype: int64"
      ]
     },
     "execution_count": 74,
     "metadata": {},
     "output_type": "execute_result"
    }
   ],
   "source": [
    "memecount"
   ]
  },
  {
   "cell_type": "code",
   "execution_count": null,
   "metadata": {
    "collapsed": true
   },
   "outputs": [],
   "source": []
  }
 ],
 "metadata": {
  "anaconda-cloud": {},
  "kernelspec": {
   "display_name": "Python [py35]",
   "language": "python",
   "name": "Python [py35]"
  },
  "language_info": {
   "codemirror_mode": {
    "name": "ipython",
    "version": 3
   },
   "file_extension": ".py",
   "mimetype": "text/x-python",
   "name": "python",
   "nbconvert_exporter": "python",
   "pygments_lexer": "ipython3",
   "version": "3.5.2"
  }
 },
 "nbformat": 4,
 "nbformat_minor": 0
}
